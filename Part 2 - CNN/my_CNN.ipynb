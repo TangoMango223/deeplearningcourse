{
 "cells": [
  {
   "cell_type": "markdown",
   "metadata": {},
   "source": [
    "# Christine's Code: CNN Introduction"
   ]
  },
  {
   "cell_type": "code",
   "execution_count": 12,
   "metadata": {},
   "outputs": [],
   "source": [
    "import tensorflow as tf\n",
    "# from keras.preprocessing.image import ImageDataGenerator"
   ]
  },
  {
   "cell_type": "code",
   "execution_count": 7,
   "metadata": {},
   "outputs": [],
   "source": [
    "# Keras now lives under TF\n",
    "a = tf.keras.preprocessing.image.ImageDataGenerator()"
   ]
  },
  {
   "cell_type": "code",
   "execution_count": 8,
   "metadata": {},
   "outputs": [],
   "source": [
    "# 4,000 images of dogs and 4,000 images of cats\n",
    "# Total of 8,000 images\n",
    "\n",
    "# Juypter notebook - run code via your machine with VSCode\n",
    "# Google Colab will fail for highly intensive code that requires large datasets\n"
   ]
  },
  {
   "cell_type": "code",
   "execution_count": 9,
   "metadata": {},
   "outputs": [],
   "source": [
    "# Goal is to deploy so it can differentiate between 2 different images\n",
    "# Dog and Cat"
   ]
  },
  {
   "cell_type": "code",
   "execution_count": 10,
   "metadata": {},
   "outputs": [
    {
     "data": {
      "text/plain": [
       "'2.17.0'"
      ]
     },
     "execution_count": 10,
     "metadata": {},
     "output_type": "execute_result"
    }
   ],
   "source": [
    "tf.__version__"
   ]
  },
  {
   "cell_type": "markdown",
   "metadata": {},
   "source": [
    "# Data Preprocessing"
   ]
  },
  {
   "cell_type": "code",
   "execution_count": null,
   "metadata": {},
   "outputs": [],
   "source": [
    "# We need to apply transformations to avoid overfitting\n",
    "# high accuracy on training set, low accuracy in test set\n",
    "# Why we do this - avoid overfitting\n",
    "\n",
    "# Image Augmentation\n",
    "# Your CNN does not overlearn\n",
    "\n",
    "# Example - horizontal flips, zooms, rotations"
   ]
  },
  {
   "cell_type": "code",
   "execution_count": 16,
   "metadata": {},
   "outputs": [
    {
     "name": "stdout",
     "output_type": "stream",
     "text": [
      "Found 8000 images belonging to 2 classes.\n"
     ]
    }
   ],
   "source": [
    "# Create Preprocessor for Training Set\n",
    "# Create instance, and create training class generator\n",
    "training_datagen = tf.keras.preprocessing.image.ImageDataGenerator(\n",
    "    rescale = 1./255, # feature scaling\n",
    "    shear_range = 0.2, # \n",
    "    zoom_range = 0.2, # Zoom into the picture\n",
    "    horizontal_flip = True # flip horizontally\n",
    "    )\n",
    "\n",
    "\n",
    "# Create the training set\n",
    "# Flow from directory - tell it where the dataset for training is coming from\n",
    "training_set = training_datagen.flow_from_directory('/Users/christine/VSCode/deeplearningcourse_remote/deeplearningcourse/Part 2 - CNN/training_set',\n",
    "                                                 target_size = (64, 64), # affects resizing\n",
    "                                                 batch_size = 32,\n",
    "                                                 class_mode = 'binary') # this is a binary outcome, cat or dog\n",
    "\n",
    "# Notice the folders are labelled dog and cat"
   ]
  },
  {
   "cell_type": "code",
   "execution_count": 18,
   "metadata": {},
   "outputs": [
    {
     "name": "stdout",
     "output_type": "stream",
     "text": [
      "Found 2000 images belonging to 2 classes.\n"
     ]
    }
   ],
   "source": [
    "# Create instance, and create test class generator\n",
    "# DO NOT APPLY THE TRANSFORMATIONS FOR TEST-GEN EXCEPT FOR SCALING\n",
    "\n",
    "# Test image - you do not want to apply transformations, to prevent over-learning\n",
    "# i.e. not applying fit_transform() to test set, you only transform()\n",
    "\n",
    "test_datagen = tf.keras.preprocessing.image.ImageDataGenerator(rescale = 1./255)\n",
    "test_set = test_datagen.flow_from_directory('/Users/christine/VSCode/deeplearningcourse_remote/deeplearningcourse/Part 2 - CNN/test_set',\n",
    "                                            target_size = (64, 64), # must be the same size and parameters here\n",
    "                                            batch_size = 32,\n",
    "                                            class_mode = 'binary')\n",
    "\n",
    "# 2000 images for test set\n",
    "# 8000 images for training set"
   ]
  },
  {
   "cell_type": "markdown",
   "metadata": {},
   "source": [
    "# Part 1: Convolution and RELU"
   ]
  },
  {
   "cell_type": "code",
   "execution_count": null,
   "metadata": {},
   "outputs": [],
   "source": []
  },
  {
   "cell_type": "markdown",
   "metadata": {},
   "source": [
    "# Part 2: Max Pooling"
   ]
  },
  {
   "cell_type": "markdown",
   "metadata": {},
   "source": [
    "# Part 3: Flatten"
   ]
  },
  {
   "cell_type": "markdown",
   "metadata": {},
   "source": [
    "# Part 4: Full Connection"
   ]
  }
 ],
 "metadata": {
  "kernelspec": {
   "display_name": ".venv",
   "language": "python",
   "name": "python3"
  },
  "language_info": {
   "codemirror_mode": {
    "name": "ipython",
    "version": 3
   },
   "file_extension": ".py",
   "mimetype": "text/x-python",
   "name": "python",
   "nbconvert_exporter": "python",
   "pygments_lexer": "ipython3",
   "version": "3.12.4"
  }
 },
 "nbformat": 4,
 "nbformat_minor": 2
}
